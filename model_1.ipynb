{
 "cells": [
  {
   "cell_type": "code",
   "execution_count": 1,
   "metadata": {},
   "outputs": [
    {
     "name": "stdout",
     "output_type": "stream",
     "text": [
      "Requirement already up-to-date: sklearn in c:\\users\\bejir\\anaconda3\\lib\\site-packages (0.0)\n",
      "Requirement already satisfied, skipping upgrade: scikit-learn in c:\\users\\bejir\\anaconda3\\lib\\site-packages (from sklearn) (0.22.1)\n",
      "Requirement already satisfied, skipping upgrade: numpy>=1.11.0 in c:\\users\\bejir\\anaconda3\\lib\\site-packages (from scikit-learn->sklearn) (1.18.1)\n",
      "Requirement already satisfied, skipping upgrade: joblib>=0.11 in c:\\users\\bejir\\anaconda3\\lib\\site-packages (from scikit-learn->sklearn) (0.14.1)\n",
      "Requirement already satisfied, skipping upgrade: scipy>=0.17.0 in c:\\users\\bejir\\anaconda3\\lib\\site-packages (from scikit-learn->sklearn) (1.4.1)\n"
     ]
    }
   ],
   "source": [
    "# Update sklearn to prevent version mismatches\n",
    "!pip install sklearn --upgrade"
   ]
  },
  {
   "cell_type": "code",
   "execution_count": 2,
   "metadata": {},
   "outputs": [
    {
     "name": "stdout",
     "output_type": "stream",
     "text": [
      "Requirement already satisfied: joblib in c:\\users\\bejir\\anaconda3\\lib\\site-packages (0.14.1)\n"
     ]
    }
   ],
   "source": [
    "# install joblib. This will be used to save your model. \n",
    "# Restart your kernel after installing \n",
    "!pip install joblib"
   ]
  },
  {
   "cell_type": "code",
   "execution_count": 3,
   "metadata": {},
   "outputs": [],
   "source": [
    "import pandas as pd"
   ]
  },
  {
   "cell_type": "markdown",
   "metadata": {},
   "source": [
    "# Read the CSV and Perform Basic Data Cleaning"
   ]
  },
  {
   "cell_type": "code",
   "execution_count": 4,
   "metadata": {},
   "outputs": [
    {
     "data": {
      "text/html": [
       "<div>\n",
       "<style scoped>\n",
       "    .dataframe tbody tr th:only-of-type {\n",
       "        vertical-align: middle;\n",
       "    }\n",
       "\n",
       "    .dataframe tbody tr th {\n",
       "        vertical-align: top;\n",
       "    }\n",
       "\n",
       "    .dataframe thead th {\n",
       "        text-align: right;\n",
       "    }\n",
       "</style>\n",
       "<table border=\"1\" class=\"dataframe\">\n",
       "  <thead>\n",
       "    <tr style=\"text-align: right;\">\n",
       "      <th></th>\n",
       "      <th>koi_disposition</th>\n",
       "      <th>koi_fpflag_nt</th>\n",
       "      <th>koi_fpflag_ss</th>\n",
       "      <th>koi_fpflag_co</th>\n",
       "      <th>koi_fpflag_ec</th>\n",
       "      <th>koi_period</th>\n",
       "      <th>koi_period_err1</th>\n",
       "      <th>koi_period_err2</th>\n",
       "      <th>koi_time0bk</th>\n",
       "      <th>koi_time0bk_err1</th>\n",
       "      <th>...</th>\n",
       "      <th>koi_steff_err2</th>\n",
       "      <th>koi_slogg</th>\n",
       "      <th>koi_slogg_err1</th>\n",
       "      <th>koi_slogg_err2</th>\n",
       "      <th>koi_srad</th>\n",
       "      <th>koi_srad_err1</th>\n",
       "      <th>koi_srad_err2</th>\n",
       "      <th>ra</th>\n",
       "      <th>dec</th>\n",
       "      <th>koi_kepmag</th>\n",
       "    </tr>\n",
       "  </thead>\n",
       "  <tbody>\n",
       "    <tr>\n",
       "      <th>0</th>\n",
       "      <td>CONFIRMED</td>\n",
       "      <td>0</td>\n",
       "      <td>0</td>\n",
       "      <td>0</td>\n",
       "      <td>0</td>\n",
       "      <td>54.418383</td>\n",
       "      <td>2.479000e-04</td>\n",
       "      <td>-2.479000e-04</td>\n",
       "      <td>162.513840</td>\n",
       "      <td>0.003520</td>\n",
       "      <td>...</td>\n",
       "      <td>-81</td>\n",
       "      <td>4.467</td>\n",
       "      <td>0.064</td>\n",
       "      <td>-0.096</td>\n",
       "      <td>0.927</td>\n",
       "      <td>0.105</td>\n",
       "      <td>-0.061</td>\n",
       "      <td>291.93423</td>\n",
       "      <td>48.141651</td>\n",
       "      <td>15.347</td>\n",
       "    </tr>\n",
       "    <tr>\n",
       "      <th>1</th>\n",
       "      <td>FALSE POSITIVE</td>\n",
       "      <td>0</td>\n",
       "      <td>1</td>\n",
       "      <td>0</td>\n",
       "      <td>0</td>\n",
       "      <td>19.899140</td>\n",
       "      <td>1.490000e-05</td>\n",
       "      <td>-1.490000e-05</td>\n",
       "      <td>175.850252</td>\n",
       "      <td>0.000581</td>\n",
       "      <td>...</td>\n",
       "      <td>-176</td>\n",
       "      <td>4.544</td>\n",
       "      <td>0.044</td>\n",
       "      <td>-0.176</td>\n",
       "      <td>0.868</td>\n",
       "      <td>0.233</td>\n",
       "      <td>-0.078</td>\n",
       "      <td>297.00482</td>\n",
       "      <td>48.134129</td>\n",
       "      <td>15.436</td>\n",
       "    </tr>\n",
       "    <tr>\n",
       "      <th>2</th>\n",
       "      <td>FALSE POSITIVE</td>\n",
       "      <td>0</td>\n",
       "      <td>1</td>\n",
       "      <td>0</td>\n",
       "      <td>0</td>\n",
       "      <td>1.736952</td>\n",
       "      <td>2.630000e-07</td>\n",
       "      <td>-2.630000e-07</td>\n",
       "      <td>170.307565</td>\n",
       "      <td>0.000115</td>\n",
       "      <td>...</td>\n",
       "      <td>-174</td>\n",
       "      <td>4.564</td>\n",
       "      <td>0.053</td>\n",
       "      <td>-0.168</td>\n",
       "      <td>0.791</td>\n",
       "      <td>0.201</td>\n",
       "      <td>-0.067</td>\n",
       "      <td>285.53461</td>\n",
       "      <td>48.285210</td>\n",
       "      <td>15.597</td>\n",
       "    </tr>\n",
       "    <tr>\n",
       "      <th>3</th>\n",
       "      <td>CONFIRMED</td>\n",
       "      <td>0</td>\n",
       "      <td>0</td>\n",
       "      <td>0</td>\n",
       "      <td>0</td>\n",
       "      <td>2.525592</td>\n",
       "      <td>3.760000e-06</td>\n",
       "      <td>-3.760000e-06</td>\n",
       "      <td>171.595550</td>\n",
       "      <td>0.001130</td>\n",
       "      <td>...</td>\n",
       "      <td>-211</td>\n",
       "      <td>4.438</td>\n",
       "      <td>0.070</td>\n",
       "      <td>-0.210</td>\n",
       "      <td>1.046</td>\n",
       "      <td>0.334</td>\n",
       "      <td>-0.133</td>\n",
       "      <td>288.75488</td>\n",
       "      <td>48.226200</td>\n",
       "      <td>15.509</td>\n",
       "    </tr>\n",
       "    <tr>\n",
       "      <th>4</th>\n",
       "      <td>CONFIRMED</td>\n",
       "      <td>0</td>\n",
       "      <td>0</td>\n",
       "      <td>0</td>\n",
       "      <td>0</td>\n",
       "      <td>4.134435</td>\n",
       "      <td>1.050000e-05</td>\n",
       "      <td>-1.050000e-05</td>\n",
       "      <td>172.979370</td>\n",
       "      <td>0.001900</td>\n",
       "      <td>...</td>\n",
       "      <td>-232</td>\n",
       "      <td>4.486</td>\n",
       "      <td>0.054</td>\n",
       "      <td>-0.229</td>\n",
       "      <td>0.972</td>\n",
       "      <td>0.315</td>\n",
       "      <td>-0.105</td>\n",
       "      <td>296.28613</td>\n",
       "      <td>48.224670</td>\n",
       "      <td>15.714</td>\n",
       "    </tr>\n",
       "  </tbody>\n",
       "</table>\n",
       "<p>5 rows × 41 columns</p>\n",
       "</div>"
      ],
      "text/plain": [
       "  koi_disposition  koi_fpflag_nt  koi_fpflag_ss  koi_fpflag_co  koi_fpflag_ec  \\\n",
       "0       CONFIRMED              0              0              0              0   \n",
       "1  FALSE POSITIVE              0              1              0              0   \n",
       "2  FALSE POSITIVE              0              1              0              0   \n",
       "3       CONFIRMED              0              0              0              0   \n",
       "4       CONFIRMED              0              0              0              0   \n",
       "\n",
       "   koi_period  koi_period_err1  koi_period_err2  koi_time0bk  \\\n",
       "0   54.418383     2.479000e-04    -2.479000e-04   162.513840   \n",
       "1   19.899140     1.490000e-05    -1.490000e-05   175.850252   \n",
       "2    1.736952     2.630000e-07    -2.630000e-07   170.307565   \n",
       "3    2.525592     3.760000e-06    -3.760000e-06   171.595550   \n",
       "4    4.134435     1.050000e-05    -1.050000e-05   172.979370   \n",
       "\n",
       "   koi_time0bk_err1  ...  koi_steff_err2  koi_slogg  koi_slogg_err1  \\\n",
       "0          0.003520  ...             -81      4.467           0.064   \n",
       "1          0.000581  ...            -176      4.544           0.044   \n",
       "2          0.000115  ...            -174      4.564           0.053   \n",
       "3          0.001130  ...            -211      4.438           0.070   \n",
       "4          0.001900  ...            -232      4.486           0.054   \n",
       "\n",
       "   koi_slogg_err2  koi_srad  koi_srad_err1  koi_srad_err2         ra  \\\n",
       "0          -0.096     0.927          0.105         -0.061  291.93423   \n",
       "1          -0.176     0.868          0.233         -0.078  297.00482   \n",
       "2          -0.168     0.791          0.201         -0.067  285.53461   \n",
       "3          -0.210     1.046          0.334         -0.133  288.75488   \n",
       "4          -0.229     0.972          0.315         -0.105  296.28613   \n",
       "\n",
       "         dec  koi_kepmag  \n",
       "0  48.141651      15.347  \n",
       "1  48.134129      15.436  \n",
       "2  48.285210      15.597  \n",
       "3  48.226200      15.509  \n",
       "4  48.224670      15.714  \n",
       "\n",
       "[5 rows x 41 columns]"
      ]
     },
     "execution_count": 4,
     "metadata": {},
     "output_type": "execute_result"
    }
   ],
   "source": [
    "df = pd.read_csv(\"Resources/exoplanet_data.csv\")\n",
    "# Drop the null columns where all values are null\n",
    "df = df.dropna(axis='columns', how='all')\n",
    "# Drop the null rows\n",
    "df = df.dropna()\n",
    "df.head()"
   ]
  },
  {
   "cell_type": "markdown",
   "metadata": {},
   "source": [
    "# Select your features (columns)"
   ]
  },
  {
   "cell_type": "code",
   "execution_count": 5,
   "metadata": {},
   "outputs": [
    {
     "name": "stdout",
     "output_type": "stream",
     "text": [
      "(6991, 5) (6991, 1)\n",
      "[['CONFIRMED']\n",
      " ['FALSE POSITIVE']\n",
      " ['FALSE POSITIVE']\n",
      " ...\n",
      " ['CANDIDATE']\n",
      " ['FALSE POSITIVE']\n",
      " ['FALSE POSITIVE']]\n"
     ]
    }
   ],
   "source": [
    "# Set features. This will also be used as your x values.\n",
    "#selected_features = df[['names', 'of', 'selected', 'features', 'here']]\n",
    "\n",
    "X = df[['koi_period', 'koi_impact', 'koi_duration', 'koi_depth', 'koi_kepmag']]\n",
    "y = df['koi_disposition'].values.reshape(-1, 1)\n",
    "print(X.shape, y.shape)\n",
    "print(y)"
   ]
  },
  {
   "cell_type": "code",
   "execution_count": 6,
   "metadata": {},
   "outputs": [
    {
     "data": {
      "image/png": "[encoded data removed]",
      "text/plain": [
       "<Figure size 432x288 with 1 Axes>"
      ]
     },
     "metadata": {
      "needs_background": "light"
     },
     "output_type": "display_data"
    }
   ],
   "source": [
    "# Plot the data to see if a linear trend exists\n",
    "\n",
    "import matplotlib.pyplot as plt\n",
    "\n",
    "#plt.scatter(X, y)\n",
    "#df.plot('scatter', x= X, y=y, color = 'red')\n",
    "plt.xlabel(\"Koi Period\")\n",
    "plt.ylabel(\"Koi Disposition\")\n",
    "\n",
    "plt.scatter(df[\"koi_period\"], df[\"koi_disposition\"], c=\"blue\", label=\"Koi Period\")\n",
    "\n",
    "plt.show()"
   ]
  },
  {
   "cell_type": "code",
   "execution_count": 7,
   "metadata": {},
   "outputs": [
    {
     "data": {
      "image/png": "[encoded data removed]",
      "text/plain": [
       "<Figure size 432x288 with 1 Axes>"
      ]
     },
     "metadata": {
      "needs_background": "light"
     },
     "output_type": "display_data"
    }
   ],
   "source": [
    "# Plot the data to see if a linear trend exists\n",
    "\n",
    "import matplotlib.pyplot as plt\n",
    "\n",
    "#plt.scatter(X, y)\n",
    "#df.plot('scatter', x= X, y=y, color = 'red')\n",
    "plt.xlabel(\"Koi Imapct\")\n",
    "plt.ylabel(\"Koi Disposition\")\n",
    "\n",
    "plt.scatter(df[\"koi_impact\"], df[\"koi_disposition\"], c=\"red\", label=\"Koi Imapct\")\n",
    "\n",
    "\n",
    "plt.show()"
   ]
  },
  {
   "cell_type": "code",
   "execution_count": 8,
   "metadata": {},
   "outputs": [
    {
     "name": "stdout",
     "output_type": "stream",
     "text": [
      "[1 2 2 ... 0 2 2]\n"
     ]
    },
    {
     "name": "stderr",
     "output_type": "stream",
     "text": [
      "C:\\Users\\bejir\\anaconda3\\lib\\site-packages\\sklearn\\preprocessing\\_label.py:251: DataConversionWarning: A column-vector y was passed when a 1d array was expected. Please change the shape of y to (n_samples, ), for example using ravel().\n",
      "  y = column_or_1d(y, warn=True)\n"
     ]
    }
   ],
   "source": [
    "# use LabelEncoder for deep learning. This step is needed as 'koi_disposition' is categorical and not numeric\n",
    "# This data will be used to train 'y' data\n",
    "\n",
    "from sklearn.preprocessing import LabelEncoder\n",
    "label_encoder = LabelEncoder()\n",
    "encoded_y = label_encoder.fit_transform(y)\n",
    "print(encoded_y)"
   ]
  },
  {
   "cell_type": "code",
   "execution_count": 9,
   "metadata": {},
   "outputs": [
    {
     "data": {
      "image/png": "[encoded data removed]",
      "text/plain": [
       "<Figure size 432x288 with 2 Axes>"
      ]
     },
     "metadata": {
      "needs_background": "light"
     },
     "output_type": "display_data"
    }
   ],
   "source": [
    "# plot the data on a 3D frame\n",
    "from mpl_toolkits.mplot3d import Axes3D\n",
    "import numpy as np\n",
    "\n",
    "array1 = np.array(df[\"koi_period\"])\n",
    "array2 = np.array(df[\"koi_impact\"])\n",
    "array3 = np.array(df[\"koi_kepmag\"])\n",
    "\n",
    "plt.xlabel(\"Koi Data\")\n",
    "plt.ylabel(\"Koi Disposition\")\n",
    "fig = plt.figure(1, figsize=(5, 5))\n",
    "axes = Axes3D(fig, elev=20, azim=45)\n",
    "#axes.scatter(X[:,0],X[:,1], X[:,2], c=y, cmap=plt.cm.get_cmap(\"Spectral\"))\n",
    "axes.scatter(array1, array2, array3, c=encoded_y, cmap=plt.cm.get_cmap(\"Spectral\"))\n",
    "\n",
    "plt.show()"
   ]
  },
  {
   "cell_type": "markdown",
   "metadata": {},
   "source": [
    "# Create a Train Test Split\n",
    "\n",
    "Use `koi_disposition` for the y values"
   ]
  },
  {
   "cell_type": "code",
   "execution_count": 10,
   "metadata": {},
   "outputs": [
    {
     "name": "stdout",
     "output_type": "stream",
     "text": [
      "y_train data = [0 2 2 ... 2 2 2]\n",
      "\n",
      "X Data is displayed below:\n"
     ]
    },
    {
     "data": {
      "text/html": [
       "<div>\n",
       "<style scoped>\n",
       "    .dataframe tbody tr th:only-of-type {\n",
       "        vertical-align: middle;\n",
       "    }\n",
       "\n",
       "    .dataframe tbody tr th {\n",
       "        vertical-align: top;\n",
       "    }\n",
       "\n",
       "    .dataframe thead th {\n",
       "        text-align: right;\n",
       "    }\n",
       "</style>\n",
       "<table border=\"1\" class=\"dataframe\">\n",
       "  <thead>\n",
       "    <tr style=\"text-align: right;\">\n",
       "      <th></th>\n",
       "      <th>koi_period</th>\n",
       "      <th>koi_impact</th>\n",
       "      <th>koi_duration</th>\n",
       "      <th>koi_depth</th>\n",
       "      <th>koi_kepmag</th>\n",
       "    </tr>\n",
       "  </thead>\n",
       "  <tbody>\n",
       "    <tr>\n",
       "      <th>6122</th>\n",
       "      <td>6.768901</td>\n",
       "      <td>0.150</td>\n",
       "      <td>3.61600</td>\n",
       "      <td>123.1</td>\n",
       "      <td>14.725</td>\n",
       "    </tr>\n",
       "    <tr>\n",
       "      <th>6370</th>\n",
       "      <td>0.733726</td>\n",
       "      <td>0.291</td>\n",
       "      <td>2.30900</td>\n",
       "      <td>114.6</td>\n",
       "      <td>15.770</td>\n",
       "    </tr>\n",
       "    <tr>\n",
       "      <th>2879</th>\n",
       "      <td>7.652707</td>\n",
       "      <td>0.970</td>\n",
       "      <td>79.89690</td>\n",
       "      <td>641.1</td>\n",
       "      <td>13.099</td>\n",
       "    </tr>\n",
       "    <tr>\n",
       "      <th>107</th>\n",
       "      <td>7.953547</td>\n",
       "      <td>0.300</td>\n",
       "      <td>2.63120</td>\n",
       "      <td>875.4</td>\n",
       "      <td>15.660</td>\n",
       "    </tr>\n",
       "    <tr>\n",
       "      <th>29</th>\n",
       "      <td>4.959319</td>\n",
       "      <td>0.831</td>\n",
       "      <td>2.22739</td>\n",
       "      <td>9802.0</td>\n",
       "      <td>15.263</td>\n",
       "    </tr>\n",
       "  </tbody>\n",
       "</table>\n",
       "</div>"
      ],
      "text/plain": [
       "      koi_period  koi_impact  koi_duration  koi_depth  koi_kepmag\n",
       "6122    6.768901       0.150       3.61600      123.1      14.725\n",
       "6370    0.733726       0.291       2.30900      114.6      15.770\n",
       "2879    7.652707       0.970      79.89690      641.1      13.099\n",
       "107     7.953547       0.300       2.63120      875.4      15.660\n",
       "29      4.959319       0.831       2.22739     9802.0      15.263"
      ]
     },
     "execution_count": 10,
     "metadata": {},
     "output_type": "execute_result"
    }
   ],
   "source": [
    "from sklearn.model_selection import train_test_split\n",
    "X_train, X_test, y_train, y_test = train_test_split(X, encoded_y, random_state = 42)\n",
    "print(f'y_train data = {y_train}')\n",
    "print('\\nX Data is displayed below:')\n",
    "X_train.head()"
   ]
  },
  {
   "cell_type": "markdown",
   "metadata": {},
   "source": [
    "## Linear Regression Model\n"
   ]
  },
  {
   "cell_type": "code",
   "execution_count": 11,
   "metadata": {},
   "outputs": [
    {
     "name": "stdout",
     "output_type": "stream",
     "text": [
      "Mean Squared Error (MSE): 0.6079818464039275\n",
      "R-squared (R2 ): 0.07766069961760436\n",
      "\n",
      "Test score on the model= 0.07766069961760436\n",
      "Test score on the model= 0.07766069961760436\n"
     ]
    }
   ],
   "source": [
    "from sklearn.linear_model import LinearRegression\n",
    "\n",
    "model = LinearRegression()\n",
    "\n",
    "# fit the data\n",
    "model.fit(X_train, y_train)\n",
    "\n",
    "# Calculate the mean_squared_error and the r-squared value for the testing data\n",
    "from sklearn.metrics import mean_squared_error, r2_score\n",
    "\n",
    "# make predictions\n",
    "predicted = model.predict(X_test)\n",
    "\n",
    "# Score the predictions with mse and r2\n",
    "mse = mean_squared_error(y_test, predicted)\n",
    "r2 = r2_score(y_test, predicted)\n",
    "\n",
    "print(f\"Mean Squared Error (MSE): {mse}\")\n",
    "print(f\"R-squared (R2 ): {r2}\")\n",
    "\n",
    "# Call the `score` method on the model to show the r2 score\n",
    "training_score = model.score(X_train, y_train)\n",
    "test_score = model.score(X_test, y_test)\n",
    "print(f'\\nTest score on the model= {test_score}')\n",
    "print(f'Test score on the model= {test_score}')"
   ]
  },
  {
   "cell_type": "code",
   "execution_count": 12,
   "metadata": {},
   "outputs": [
    {
     "data": {
      "text/plain": [
       "Text(0.5, 1.0, 'Residual Plot')"
      ]
     },
     "execution_count": 12,
     "metadata": {},
     "output_type": "execute_result"
    },
    {
     "data": {
      "image/png": "[encoded data removed]",
      "text/plain": [
       "<Figure size 432x288 with 1 Axes>"
      ]
     },
     "metadata": {
      "needs_background": "light"
     },
     "output_type": "display_data"
    }
   ],
   "source": [
    "# Plot the Residuals for the Training and Testing data\n",
    "plt.scatter(model.predict(X_train), model.predict(X_train) - y_train, c=\"blue\", label=\"Training Data\")\n",
    "plt.scatter(model.predict(X_test), model.predict(X_test) - y_test, c=\"orange\", label=\"Testing Data\")\n",
    "plt.legend()\n",
    "plt.hlines(y=0, xmin=y.min(), xmax=y.max())\n",
    "plt.title(\"Residual Plot\")"
   ]
  },
  {
   "cell_type": "code",
   "execution_count": 13,
   "metadata": {},
   "outputs": [
    {
     "data": {
      "image/png": "[encoded data removed]",
      "text/plain": [
       "<Figure size 432x288 with 1 Axes>"
      ]
     },
     "metadata": {
      "needs_background": "light"
     },
     "output_type": "display_data"
    }
   ],
   "source": [
    "#use a residual plot to check our predictions.\n",
    "predictions = model.predict(X)\n",
    "# Plot Residuals\n",
    "plt.scatter(predictions, predictions - encoded_y)\n",
    "plt.hlines(y=0, xmin=predictions.min(), xmax=predictions.max())\n",
    "plt.show()"
   ]
  },
  {
   "cell_type": "markdown",
   "metadata": {},
   "source": [
    "# Pre-processing\n",
    "\n",
    "Scale the data using the MinMaxScaler and perform some feature selection"
   ]
  },
  {
   "cell_type": "code",
   "execution_count": 18,
   "metadata": {},
   "outputs": [
    {
     "data": {
      "text/plain": [
       "array([[1., 0., 0.],\n",
       "       [0., 0., 1.],\n",
       "       [0., 0., 1.],\n",
       "       ...,\n",
       "       [0., 0., 1.],\n",
       "       [0., 0., 1.],\n",
       "       [0., 0., 1.]], dtype=float32)"
      ]
     },
     "execution_count": 18,
     "metadata": {},
     "output_type": "execute_result"
    }
   ],
   "source": [
    "# Preprocess and Scale your data\n",
    "from sklearn.preprocessing import MinMaxScaler, OneHotEncoder\n",
    "\n",
    "X_scaler = MinMaxScaler().fit(X_train)\n",
    "\n",
    "# transform the training data\n",
    "X_train_scaled = X_scaler.transform(X_train)\n",
    "X_test_scaled = X_scaler.transform(X_test)\n",
    "\n",
    "from keras.utils import to_categorical\n",
    "y_train_categorical = to_categorical(y_train)\n",
    "y_test_categorical = to_categorical(y_test)\n",
    "\n",
    "y_train_categorical"
   ]
  },
  {
   "cell_type": "markdown",
   "metadata": {},
   "source": [
    "# Tensorflow Sequential Model"
   ]
  },
  {
   "cell_type": "code",
   "execution_count": 19,
   "metadata": {},
   "outputs": [
    {
     "name": "stdout",
     "output_type": "stream",
     "text": [
      "Model: \"sequential_1\"\n",
      "_________________________________________________________________\n",
      "Layer (type)                 Output Shape              Param #   \n",
      "=================================================================\n",
      "dense_2 (Dense)              (None, 100)               600       \n",
      "_________________________________________________________________\n",
      "dense_3 (Dense)              (None, 3)                 303       \n",
      "=================================================================\n",
      "Total params: 903\n",
      "Trainable params: 903\n",
      "Non-trainable params: 0\n",
      "_________________________________________________________________\n"
     ]
    }
   ],
   "source": [
    "# first, create a normal neural network with 5 inputs, 6 hidden nodes, and 2 outputs\n",
    "from tensorflow.keras.models import Sequential\n",
    "from tensorflow.keras.layers import Dense\n",
    "\n",
    "tensor_model = Sequential()\n",
    "inputs = 5\n",
    "outputs = 3\n",
    "hidden_nodes = 100\n",
    "\n",
    "tensor_model.add(Dense(units=hidden_nodes, activation='relu', input_dim=inputs))\n",
    "tensor_model.add(Dense(units=outputs, activation='softmax'))\n",
    "tensor_model.summary()"
   ]
  },
  {
   "cell_type": "code",
   "execution_count": 20,
   "metadata": {},
   "outputs": [],
   "source": [
    "# Compile the model\n",
    "tensor_model.compile(optimizer='adam',\n",
    "              loss='categorical_crossentropy',\n",
    "              metrics=['accuracy'])"
   ]
  },
  {
   "cell_type": "code",
   "execution_count": 21,
   "metadata": {},
   "outputs": [
    {
     "name": "stdout",
     "output_type": "stream",
     "text": [
      "Epoch 1/100\n",
      "164/164 - 0s - loss: 1.0375 - accuracy: 0.4799\n",
      "Epoch 2/100\n",
      "164/164 - 0s - loss: 0.9925 - accuracy: 0.5056\n",
      "Epoch 3/100\n",
      "164/164 - 0s - loss: 0.9667 - accuracy: 0.5056\n",
      "Epoch 4/100\n",
      "164/164 - 0s - loss: 0.9472 - accuracy: 0.5056\n",
      "Epoch 5/100\n",
      "164/164 - 0s - loss: 0.9337 - accuracy: 0.5060\n",
      "Epoch 6/100\n",
      "164/164 - 0s - loss: 0.9232 - accuracy: 0.5056\n",
      "Epoch 7/100\n",
      "164/164 - 0s - loss: 0.9142 - accuracy: 0.5176\n",
      "Epoch 8/100\n",
      "164/164 - 0s - loss: 0.9050 - accuracy: 0.5220\n",
      "Epoch 9/100\n",
      "164/164 - 0s - loss: 0.8983 - accuracy: 0.5268\n",
      "Epoch 10/100\n",
      "164/164 - 0s - loss: 0.8912 - accuracy: 0.5369\n",
      "Epoch 11/100\n",
      "164/164 - 0s - loss: 0.8867 - accuracy: 0.5356\n",
      "Epoch 12/100\n",
      "164/164 - 0s - loss: 0.8803 - accuracy: 0.5520\n",
      "Epoch 13/100\n",
      "164/164 - 0s - loss: 0.8750 - accuracy: 0.5602\n",
      "Epoch 14/100\n",
      "164/164 - 0s - loss: 0.8706 - accuracy: 0.5676\n",
      "Epoch 15/100\n",
      "164/164 - 0s - loss: 0.8669 - accuracy: 0.5745\n",
      "Epoch 16/100\n",
      "164/164 - 0s - loss: 0.8619 - accuracy: 0.5741\n",
      "Epoch 17/100\n",
      "164/164 - 0s - loss: 0.8580 - accuracy: 0.5846\n",
      "Epoch 18/100\n",
      "164/164 - 0s - loss: 0.8560 - accuracy: 0.5854\n",
      "Epoch 19/100\n",
      "164/164 - 0s - loss: 0.8529 - accuracy: 0.5903\n",
      "Epoch 20/100\n",
      "164/164 - 0s - loss: 0.8483 - accuracy: 0.5916\n",
      "Epoch 21/100\n",
      "164/164 - 0s - loss: 0.8455 - accuracy: 0.5916\n",
      "Epoch 22/100\n",
      "164/164 - 0s - loss: 0.8435 - accuracy: 0.6002\n",
      "Epoch 23/100\n",
      "164/164 - 0s - loss: 0.8397 - accuracy: 0.6004\n",
      "Epoch 24/100\n",
      "164/164 - 0s - loss: 0.8371 - accuracy: 0.6018\n",
      "Epoch 25/100\n",
      "164/164 - 0s - loss: 0.8346 - accuracy: 0.6063\n",
      "Epoch 26/100\n",
      "164/164 - 0s - loss: 0.8329 - accuracy: 0.6037\n",
      "Epoch 27/100\n",
      "164/164 - 0s - loss: 0.8314 - accuracy: 0.6050\n",
      "Epoch 28/100\n",
      "164/164 - 0s - loss: 0.8273 - accuracy: 0.6073\n",
      "Epoch 29/100\n",
      "164/164 - 0s - loss: 0.8257 - accuracy: 0.6132\n",
      "Epoch 30/100\n",
      "164/164 - 0s - loss: 0.8239 - accuracy: 0.6126\n",
      "Epoch 31/100\n",
      "164/164 - 0s - loss: 0.8204 - accuracy: 0.6157\n",
      "Epoch 32/100\n",
      "164/164 - 0s - loss: 0.8190 - accuracy: 0.6153\n",
      "Epoch 33/100\n",
      "164/164 - 0s - loss: 0.8182 - accuracy: 0.6180\n",
      "Epoch 34/100\n",
      "164/164 - 0s - loss: 0.8150 - accuracy: 0.6172\n",
      "Epoch 35/100\n",
      "164/164 - 0s - loss: 0.8138 - accuracy: 0.6197\n",
      "Epoch 36/100\n",
      "164/164 - 0s - loss: 0.8129 - accuracy: 0.6163\n",
      "Epoch 37/100\n",
      "164/164 - 0s - loss: 0.8103 - accuracy: 0.6204\n",
      "Epoch 38/100\n",
      "164/164 - 0s - loss: 0.8107 - accuracy: 0.6180\n",
      "Epoch 39/100\n",
      "164/164 - 0s - loss: 0.8063 - accuracy: 0.6252\n",
      "Epoch 40/100\n",
      "164/164 - 0s - loss: 0.8060 - accuracy: 0.6288\n",
      "Epoch 41/100\n",
      "164/164 - 0s - loss: 0.8045 - accuracy: 0.6252\n",
      "Epoch 42/100\n",
      "164/164 - 0s - loss: 0.8021 - accuracy: 0.6288\n",
      "Epoch 43/100\n",
      "164/164 - 0s - loss: 0.8018 - accuracy: 0.6265\n",
      "Epoch 44/100\n",
      "164/164 - 0s - loss: 0.8012 - accuracy: 0.6254\n",
      "Epoch 45/100\n",
      "164/164 - 0s - loss: 0.7983 - accuracy: 0.6286\n",
      "Epoch 46/100\n",
      "164/164 - 0s - loss: 0.7981 - accuracy: 0.6288\n",
      "Epoch 47/100\n",
      "164/164 - 0s - loss: 0.7976 - accuracy: 0.6285\n",
      "Epoch 48/100\n",
      "164/164 - 0s - loss: 0.7946 - accuracy: 0.6248\n",
      "Epoch 49/100\n",
      "164/164 - 0s - loss: 0.7949 - accuracy: 0.6319\n",
      "Epoch 50/100\n",
      "164/164 - 0s - loss: 0.7928 - accuracy: 0.6317\n",
      "Epoch 51/100\n",
      "164/164 - 0s - loss: 0.7908 - accuracy: 0.6321\n",
      "Epoch 52/100\n",
      "164/164 - 0s - loss: 0.7910 - accuracy: 0.6327\n",
      "Epoch 53/100\n",
      "164/164 - 0s - loss: 0.7907 - accuracy: 0.6342\n",
      "Epoch 54/100\n",
      "164/164 - 0s - loss: 0.7885 - accuracy: 0.6340\n",
      "Epoch 55/100\n",
      "164/164 - 0s - loss: 0.7883 - accuracy: 0.6346\n",
      "Epoch 56/100\n",
      "164/164 - 0s - loss: 0.7876 - accuracy: 0.6304\n",
      "Epoch 57/100\n",
      "164/164 - 0s - loss: 0.7855 - accuracy: 0.6372\n",
      "Epoch 58/100\n",
      "164/164 - 0s - loss: 0.7869 - accuracy: 0.6367\n",
      "Epoch 59/100\n",
      "164/164 - 0s - loss: 0.7844 - accuracy: 0.6365\n",
      "Epoch 60/100\n",
      "164/164 - 0s - loss: 0.7842 - accuracy: 0.6359\n",
      "Epoch 61/100\n",
      "164/164 - 0s - loss: 0.7816 - accuracy: 0.6351\n",
      "Epoch 62/100\n",
      "164/164 - 0s - loss: 0.7825 - accuracy: 0.6342\n",
      "Epoch 63/100\n",
      "164/164 - 0s - loss: 0.7805 - accuracy: 0.6403\n",
      "Epoch 64/100\n",
      "164/164 - 0s - loss: 0.7800 - accuracy: 0.6372\n",
      "Epoch 65/100\n",
      "164/164 - 0s - loss: 0.7800 - accuracy: 0.6380\n",
      "Epoch 66/100\n",
      "164/164 - 0s - loss: 0.7772 - accuracy: 0.6386\n",
      "Epoch 67/100\n",
      "164/164 - 0s - loss: 0.7770 - accuracy: 0.6412\n",
      "Epoch 68/100\n",
      "164/164 - 0s - loss: 0.7760 - accuracy: 0.6372\n",
      "Epoch 69/100\n",
      "164/164 - 0s - loss: 0.7767 - accuracy: 0.6389\n",
      "Epoch 70/100\n",
      "164/164 - 0s - loss: 0.7744 - accuracy: 0.6435\n",
      "Epoch 71/100\n",
      "164/164 - 0s - loss: 0.7745 - accuracy: 0.6428\n",
      "Epoch 72/100\n",
      "164/164 - 0s - loss: 0.7727 - accuracy: 0.6477\n",
      "Epoch 73/100\n",
      "164/164 - 0s - loss: 0.7745 - accuracy: 0.6410\n",
      "Epoch 74/100\n",
      "164/164 - 0s - loss: 0.7713 - accuracy: 0.6391\n",
      "Epoch 75/100\n",
      "164/164 - 0s - loss: 0.7713 - accuracy: 0.6401\n",
      "Epoch 76/100\n",
      "164/164 - 0s - loss: 0.7721 - accuracy: 0.6431\n",
      "Epoch 77/100\n",
      "164/164 - 0s - loss: 0.7688 - accuracy: 0.6439\n",
      "Epoch 78/100\n",
      "164/164 - 0s - loss: 0.7684 - accuracy: 0.6420\n",
      "Epoch 79/100\n",
      "164/164 - 0s - loss: 0.7681 - accuracy: 0.6449\n",
      "Epoch 80/100\n",
      "164/164 - 0s - loss: 0.7670 - accuracy: 0.6443\n",
      "Epoch 81/100\n",
      "164/164 - 0s - loss: 0.7657 - accuracy: 0.6470\n",
      "Epoch 82/100\n",
      "164/164 - 0s - loss: 0.7654 - accuracy: 0.6452\n",
      "Epoch 83/100\n",
      "164/164 - 0s - loss: 0.7644 - accuracy: 0.6441\n",
      "Epoch 84/100\n",
      "164/164 - 0s - loss: 0.7637 - accuracy: 0.6506\n",
      "Epoch 85/100\n",
      "164/164 - 0s - loss: 0.7624 - accuracy: 0.6447\n",
      "Epoch 86/100\n",
      "164/164 - 0s - loss: 0.7633 - accuracy: 0.6458\n",
      "Epoch 87/100\n",
      "164/164 - 0s - loss: 0.7618 - accuracy: 0.6481\n",
      "Epoch 88/100\n",
      "164/164 - 0s - loss: 0.7618 - accuracy: 0.6452\n",
      "Epoch 89/100\n",
      "164/164 - 0s - loss: 0.7612 - accuracy: 0.6477\n",
      "Epoch 90/100\n",
      "164/164 - 0s - loss: 0.7596 - accuracy: 0.6519\n",
      "Epoch 91/100\n",
      "164/164 - 0s - loss: 0.7592 - accuracy: 0.6513\n",
      "Epoch 92/100\n",
      "164/164 - 0s - loss: 0.7592 - accuracy: 0.6512\n",
      "Epoch 93/100\n",
      "164/164 - 0s - loss: 0.7578 - accuracy: 0.6489\n",
      "Epoch 94/100\n",
      "164/164 - 0s - loss: 0.7576 - accuracy: 0.6546\n",
      "Epoch 95/100\n",
      "164/164 - 0s - loss: 0.7562 - accuracy: 0.6498\n",
      "Epoch 96/100\n",
      "164/164 - 0s - loss: 0.7565 - accuracy: 0.6540\n",
      "Epoch 97/100\n",
      "164/164 - 0s - loss: 0.7551 - accuracy: 0.6506\n",
      "Epoch 98/100\n",
      "164/164 - 0s - loss: 0.7552 - accuracy: 0.6506\n",
      "Epoch 99/100\n",
      "164/164 - 0s - loss: 0.7548 - accuracy: 0.6513\n",
      "Epoch 100/100\n",
      "164/164 - 0s - loss: 0.7536 - accuracy: 0.6504\n"
     ]
    },
    {
     "data": {
      "text/plain": [
       "<tensorflow.python.keras.callbacks.History at 0x2a51a0211c8>"
      ]
     },
     "execution_count": 21,
     "metadata": {},
     "output_type": "execute_result"
    }
   ],
   "source": [
    "# Fit the model to the training data\n",
    "tensor_model.fit(\n",
    "    X_train_scaled,\n",
    "    y_train_categorical,\n",
    "    epochs=100,\n",
    "    shuffle=True,\n",
    "    verbose=2\n",
    ")"
   ]
  },
  {
   "cell_type": "code",
   "execution_count": 30,
   "metadata": {},
   "outputs": [
    {
     "name": "stdout",
     "output_type": "stream",
     "text": [
      "Model: \"sequential_5\"\n",
      "_________________________________________________________________\n",
      "Layer (type)                 Output Shape              Param #   \n",
      "=================================================================\n",
      "dense_13 (Dense)             (None, 100)               600       \n",
      "_________________________________________________________________\n",
      "dense_14 (Dense)             (None, 100)               10100     \n",
      "_________________________________________________________________\n",
      "dense_15 (Dense)             (None, 3)                 303       \n",
      "=================================================================\n",
      "Total params: 11,003\n",
      "Trainable params: 11,003\n",
      "Non-trainable params: 0\n",
      "_________________________________________________________________\n"
     ]
    }
   ],
   "source": [
    "deep_model = Sequential()\n",
    "deep_model.add(Dense(units=hidden_nodes, activation='relu', input_dim=inputs))\n",
    "deep_model.add(Dense(units=hidden_nodes, activation='relu'))\n",
    "deep_model.add(Dense(units=outputs, activation='softmax'))\n",
    "deep_model.summary()"
   ]
  },
  {
   "cell_type": "code",
   "execution_count": 31,
   "metadata": {},
   "outputs": [],
   "source": [
    "# Compile the model\n",
    "deep_model.compile(optimizer='adam',\n",
    "              loss='categorical_crossentropy',\n",
    "              metrics=['accuracy'])"
   ]
  },
  {
   "cell_type": "code",
   "execution_count": 32,
   "metadata": {},
   "outputs": [
    {
     "name": "stdout",
     "output_type": "stream",
     "text": [
      "Epoch 1/100\n",
      "164/164 - 0s - loss: 1.0176 - accuracy: 0.5043\n",
      "Epoch 2/100\n",
      "164/164 - 0s - loss: 0.9440 - accuracy: 0.5066\n",
      "Epoch 3/100\n",
      "164/164 - 0s - loss: 0.8967 - accuracy: 0.5333\n",
      "Epoch 4/100\n",
      "164/164 - 0s - loss: 0.8732 - accuracy: 0.5617\n",
      "Epoch 5/100\n",
      "164/164 - 0s - loss: 0.8561 - accuracy: 0.5804\n",
      "Epoch 6/100\n",
      "164/164 - 0s - loss: 0.8467 - accuracy: 0.5922\n",
      "Epoch 7/100\n",
      "164/164 - 0s - loss: 0.8354 - accuracy: 0.5981\n",
      "Epoch 8/100\n",
      "164/164 - 0s - loss: 0.8302 - accuracy: 0.6035\n",
      "Epoch 9/100\n",
      "164/164 - 0s - loss: 0.8194 - accuracy: 0.6147\n",
      "Epoch 10/100\n",
      "164/164 - 0s - loss: 0.8197 - accuracy: 0.6111\n",
      "Epoch 11/100\n",
      "164/164 - 0s - loss: 0.8164 - accuracy: 0.6092\n",
      "Epoch 12/100\n",
      "164/164 - 0s - loss: 0.8066 - accuracy: 0.6235\n",
      "Epoch 13/100\n",
      "164/164 - 0s - loss: 0.8051 - accuracy: 0.6203\n",
      "Epoch 14/100\n",
      "164/164 - 0s - loss: 0.8012 - accuracy: 0.6224\n",
      "Epoch 15/100\n",
      "164/164 - 0s - loss: 0.7955 - accuracy: 0.6265\n",
      "Epoch 16/100\n",
      "164/164 - 0s - loss: 0.7932 - accuracy: 0.6288\n",
      "Epoch 17/100\n",
      "164/164 - 0s - loss: 0.7906 - accuracy: 0.6302\n",
      "Epoch 18/100\n",
      "164/164 - 0s - loss: 0.7924 - accuracy: 0.6328\n",
      "Epoch 19/100\n",
      "164/164 - 0s - loss: 0.7819 - accuracy: 0.6321\n",
      "Epoch 20/100\n",
      "164/164 - 0s - loss: 0.7793 - accuracy: 0.6306\n",
      "Epoch 21/100\n",
      "164/164 - 0s - loss: 0.7768 - accuracy: 0.6355\n",
      "Epoch 22/100\n",
      "164/164 - 0s - loss: 0.7709 - accuracy: 0.6370\n",
      "Epoch 23/100\n",
      "164/164 - 0s - loss: 0.7691 - accuracy: 0.6391\n",
      "Epoch 24/100\n",
      "164/164 - 0s - loss: 0.7642 - accuracy: 0.6458\n",
      "Epoch 25/100\n",
      "164/164 - 0s - loss: 0.7629 - accuracy: 0.6378\n",
      "Epoch 26/100\n",
      "164/164 - 0s - loss: 0.7610 - accuracy: 0.6424\n",
      "Epoch 27/100\n",
      "164/164 - 0s - loss: 0.7568 - accuracy: 0.6464\n",
      "Epoch 28/100\n",
      "164/164 - 0s - loss: 0.7601 - accuracy: 0.6449\n",
      "Epoch 29/100\n",
      "164/164 - 0s - loss: 0.7550 - accuracy: 0.6485\n",
      "Epoch 30/100\n",
      "164/164 - 0s - loss: 0.7547 - accuracy: 0.6481\n",
      "Epoch 31/100\n",
      "164/164 - 0s - loss: 0.7497 - accuracy: 0.6470\n",
      "Epoch 32/100\n",
      "164/164 - 0s - loss: 0.7514 - accuracy: 0.6525\n",
      "Epoch 33/100\n",
      "164/164 - 0s - loss: 0.7506 - accuracy: 0.6504\n",
      "Epoch 34/100\n",
      "164/164 - 0s - loss: 0.7455 - accuracy: 0.6513\n",
      "Epoch 35/100\n",
      "164/164 - 0s - loss: 0.7449 - accuracy: 0.6542\n",
      "Epoch 36/100\n",
      "164/164 - 0s - loss: 0.7408 - accuracy: 0.6555\n",
      "Epoch 37/100\n",
      "164/164 - 0s - loss: 0.7437 - accuracy: 0.6494\n",
      "Epoch 38/100\n",
      "164/164 - 0s - loss: 0.7376 - accuracy: 0.6536\n",
      "Epoch 39/100\n",
      "164/164 - 0s - loss: 0.7432 - accuracy: 0.6498\n",
      "Epoch 40/100\n",
      "164/164 - 0s - loss: 0.7357 - accuracy: 0.6599\n",
      "Epoch 41/100\n",
      "164/164 - 0s - loss: 0.7370 - accuracy: 0.6517\n",
      "Epoch 42/100\n",
      "164/164 - 0s - loss: 0.7322 - accuracy: 0.6586\n",
      "Epoch 43/100\n",
      "164/164 - 0s - loss: 0.7326 - accuracy: 0.6574\n",
      "Epoch 44/100\n",
      "164/164 - 0s - loss: 0.7350 - accuracy: 0.6569\n",
      "Epoch 45/100\n",
      "164/164 - 0s - loss: 0.7358 - accuracy: 0.6578\n",
      "Epoch 46/100\n",
      "164/164 - 0s - loss: 0.7338 - accuracy: 0.6569\n",
      "Epoch 47/100\n",
      "164/164 - 0s - loss: 0.7400 - accuracy: 0.6548\n",
      "Epoch 48/100\n",
      "164/164 - 0s - loss: 0.7276 - accuracy: 0.6611\n",
      "Epoch 49/100\n",
      "164/164 - 0s - loss: 0.7254 - accuracy: 0.6613\n",
      "Epoch 50/100\n",
      "164/164 - 0s - loss: 0.7325 - accuracy: 0.6615\n",
      "Epoch 51/100\n",
      "164/164 - 0s - loss: 0.7304 - accuracy: 0.6561\n",
      "Epoch 52/100\n",
      "164/164 - 0s - loss: 0.7271 - accuracy: 0.6609\n",
      "Epoch 53/100\n",
      "164/164 - 0s - loss: 0.7250 - accuracy: 0.6655\n",
      "Epoch 54/100\n",
      "164/164 - 0s - loss: 0.7196 - accuracy: 0.6641\n",
      "Epoch 55/100\n",
      "164/164 - 0s - loss: 0.7241 - accuracy: 0.6639\n",
      "Epoch 56/100\n",
      "164/164 - 0s - loss: 0.7222 - accuracy: 0.6658\n",
      "Epoch 57/100\n",
      "164/164 - 0s - loss: 0.7225 - accuracy: 0.6609\n",
      "Epoch 58/100\n",
      "164/164 - 0s - loss: 0.7266 - accuracy: 0.6634\n",
      "Epoch 59/100\n",
      "164/164 - 0s - loss: 0.7200 - accuracy: 0.6681\n",
      "Epoch 60/100\n",
      "164/164 - 0s - loss: 0.7207 - accuracy: 0.6628\n",
      "Epoch 61/100\n",
      "164/164 - 0s - loss: 0.7136 - accuracy: 0.6719\n",
      "Epoch 62/100\n",
      "164/164 - 0s - loss: 0.7188 - accuracy: 0.6636\n",
      "Epoch 63/100\n",
      "164/164 - 0s - loss: 0.7170 - accuracy: 0.6664\n",
      "Epoch 64/100\n",
      "164/164 - 0s - loss: 0.7194 - accuracy: 0.6668\n",
      "Epoch 65/100\n",
      "164/164 - 0s - loss: 0.7144 - accuracy: 0.6681\n",
      "Epoch 66/100\n",
      "164/164 - 0s - loss: 0.7124 - accuracy: 0.6685\n",
      "Epoch 67/100\n",
      "164/164 - 0s - loss: 0.7257 - accuracy: 0.6683\n",
      "Epoch 68/100\n",
      "164/164 - 0s - loss: 0.7137 - accuracy: 0.6704\n",
      "Epoch 69/100\n",
      "164/164 - 0s - loss: 0.7097 - accuracy: 0.6685\n",
      "Epoch 70/100\n",
      "164/164 - 0s - loss: 0.7131 - accuracy: 0.6714\n",
      "Epoch 71/100\n",
      "164/164 - 0s - loss: 0.7173 - accuracy: 0.6687\n",
      "Epoch 72/100\n",
      "164/164 - 0s - loss: 0.7105 - accuracy: 0.6695\n",
      "Epoch 73/100\n",
      "164/164 - 0s - loss: 0.7113 - accuracy: 0.6746\n",
      "Epoch 74/100\n",
      "164/164 - 0s - loss: 0.7109 - accuracy: 0.6702\n",
      "Epoch 75/100\n",
      "164/164 - 0s - loss: 0.7176 - accuracy: 0.6676\n",
      "Epoch 76/100\n",
      "164/164 - 0s - loss: 0.7044 - accuracy: 0.6752\n",
      "Epoch 77/100\n",
      "164/164 - 0s - loss: 0.7099 - accuracy: 0.6714\n",
      "Epoch 78/100\n",
      "164/164 - 0s - loss: 0.7095 - accuracy: 0.6676\n",
      "Epoch 79/100\n",
      "164/164 - 0s - loss: 0.7104 - accuracy: 0.6750\n",
      "Epoch 80/100\n",
      "164/164 - 0s - loss: 0.7043 - accuracy: 0.6719\n",
      "Epoch 81/100\n",
      "164/164 - 0s - loss: 0.7066 - accuracy: 0.6740\n",
      "Epoch 82/100\n",
      "164/164 - 0s - loss: 0.7030 - accuracy: 0.6746\n",
      "Epoch 83/100\n",
      "164/164 - 0s - loss: 0.7025 - accuracy: 0.6719\n",
      "Epoch 84/100\n",
      "164/164 - 0s - loss: 0.7038 - accuracy: 0.6750\n",
      "Epoch 85/100\n",
      "164/164 - 0s - loss: 0.7049 - accuracy: 0.6704\n",
      "Epoch 86/100\n",
      "164/164 - 0s - loss: 0.7008 - accuracy: 0.6756\n",
      "Epoch 87/100\n",
      "164/164 - 0s - loss: 0.7013 - accuracy: 0.6759\n",
      "Epoch 88/100\n",
      "164/164 - 0s - loss: 0.6991 - accuracy: 0.6767\n",
      "Epoch 89/100\n",
      "164/164 - 0s - loss: 0.7029 - accuracy: 0.6723\n",
      "Epoch 90/100\n",
      "164/164 - 0s - loss: 0.6995 - accuracy: 0.6727\n",
      "Epoch 91/100\n",
      "164/164 - 0s - loss: 0.7003 - accuracy: 0.6782\n",
      "Epoch 92/100\n",
      "164/164 - 0s - loss: 0.6966 - accuracy: 0.6824\n",
      "Epoch 93/100\n",
      "164/164 - 0s - loss: 0.6974 - accuracy: 0.6759\n",
      "Epoch 94/100\n",
      "164/164 - 0s - loss: 0.6952 - accuracy: 0.6754\n",
      "Epoch 95/100\n",
      "164/164 - 0s - loss: 0.6981 - accuracy: 0.6721\n",
      "Epoch 96/100\n",
      "164/164 - 0s - loss: 0.6953 - accuracy: 0.6773\n",
      "Epoch 97/100\n",
      "164/164 - 0s - loss: 0.6962 - accuracy: 0.6744\n",
      "Epoch 98/100\n",
      "164/164 - 0s - loss: 0.6922 - accuracy: 0.6864\n",
      "Epoch 99/100\n",
      "164/164 - 0s - loss: 0.7052 - accuracy: 0.6706\n",
      "Epoch 100/100\n",
      "164/164 - 0s - loss: 0.6906 - accuracy: 0.6798\n"
     ]
    },
    {
     "data": {
      "text/plain": [
       "<tensorflow.python.keras.callbacks.History at 0x2a51b4a7a48>"
      ]
     },
     "execution_count": 32,
     "metadata": {},
     "output_type": "execute_result"
    }
   ],
   "source": [
    "# Fit the model to the training data\n",
    "deep_model.fit(\n",
    "    X_train_scaled,\n",
    "    y_train_categorical,\n",
    "    epochs=100,\n",
    "    shuffle=True,\n",
    "    verbose=2\n",
    ")"
   ]
  },
  {
   "cell_type": "markdown",
   "metadata": {},
   "source": [
    "# Compare the models below"
   ]
  },
  {
   "cell_type": "code",
   "execution_count": 33,
   "metadata": {},
   "outputs": [
    {
     "name": "stdout",
     "output_type": "stream",
     "text": [
      "55/55 - 0s - loss: 0.7907 - accuracy: 0.6402\n",
      "Normal Neural Network - Loss: 0.7907472252845764, Accuracy: 0.6401602029800415\n"
     ]
    }
   ],
   "source": [
    "model_loss, model_accuracy = tensor_model.evaluate(\n",
    "    X_test_scaled, y_test_categorical, verbose=2)\n",
    "print(\n",
    "    f\"Normal Neural Network - Loss: {model_loss}, Accuracy: {model_accuracy}\")"
   ]
  },
  {
   "cell_type": "code",
   "execution_count": 34,
   "metadata": {},
   "outputs": [
    {
     "name": "stdout",
     "output_type": "stream",
     "text": [
      "55/55 - 0s - loss: 0.7433 - accuracy: 0.6676\n",
      "Deep Neural Network - Loss: 0.7433006167411804, Accuracy: 0.6676201224327087\n"
     ]
    }
   ],
   "source": [
    "model_loss, model_accuracy = deep_model.evaluate(\n",
    "    X_test_scaled, y_test_categorical, verbose=2)\n",
    "print(f\"Deep Neural Network - Loss: {model_loss}, Accuracy: {model_accuracy}\")"
   ]
  },
  {
   "cell_type": "markdown",
   "metadata": {},
   "source": [
    "# Hyperparameter Tuning\n",
    "\n",
    "Use `GridSearchCV` to tune the model's parameters"
   ]
  },
  {
   "cell_type": "code",
   "execution_count": 35,
   "metadata": {},
   "outputs": [],
   "source": [
    "# Support vector machine linear classifier\n",
    "from sklearn.svm import SVC \n",
    "svc_model = SVC(kernel='linear')"
   ]
  },
  {
   "cell_type": "code",
   "execution_count": 36,
   "metadata": {},
   "outputs": [],
   "source": [
    "# Create the GridSearchCV model\n",
    "# Create the GridSearch estimator along with a parameter object containing the values to adjust\n",
    "from sklearn.model_selection import GridSearchCV\n",
    "param_grid = {'C': [1, 5, 10],\n",
    "              'gamma': [0.0001, 0.001, 0.01]}\n",
    "grid_model = GridSearchCV(svc_model, param_grid, verbose=3)"
   ]
  },
  {
   "cell_type": "code",
   "execution_count": 37,
   "metadata": {},
   "outputs": [
    {
     "name": "stdout",
     "output_type": "stream",
     "text": [
      "Fitting 5 folds for each of 9 candidates, totalling 45 fits\n",
      "[CV] C=1, gamma=0.0001 ...............................................\n"
     ]
    },
    {
     "name": "stderr",
     "output_type": "stream",
     "text": [
      "[Parallel(n_jobs=1)]: Using backend SequentialBackend with 1 concurrent workers.\n"
     ]
    },
    {
     "name": "stdout",
     "output_type": "stream",
     "text": [
      "[CV] ................... C=1, gamma=0.0001, score=0.505, total=   0.3s\n",
      "[CV] C=1, gamma=0.0001 ...............................................\n"
     ]
    },
    {
     "name": "stderr",
     "output_type": "stream",
     "text": [
      "[Parallel(n_jobs=1)]: Done   1 out of   1 | elapsed:    0.2s remaining:    0.0s\n"
     ]
    },
    {
     "name": "stdout",
     "output_type": "stream",
     "text": [
      "[CV] ................... C=1, gamma=0.0001, score=0.506, total=   0.3s\n",
      "[CV] C=1, gamma=0.0001 ...............................................\n"
     ]
    },
    {
     "name": "stderr",
     "output_type": "stream",
     "text": [
      "[Parallel(n_jobs=1)]: Done   2 out of   2 | elapsed:    0.5s remaining:    0.0s\n"
     ]
    },
    {
     "name": "stdout",
     "output_type": "stream",
     "text": [
      "[CV] ................... C=1, gamma=0.0001, score=0.505, total=   0.3s\n",
      "[CV] C=1, gamma=0.0001 ...............................................\n",
      "[CV] ................... C=1, gamma=0.0001, score=0.506, total=   0.3s\n",
      "[CV] C=1, gamma=0.0001 ...............................................\n",
      "[CV] ................... C=1, gamma=0.0001, score=0.506, total=   0.3s\n",
      "[CV] C=1, gamma=0.001 ................................................\n",
      "[CV] .................... C=1, gamma=0.001, score=0.505, total=   0.3s\n",
      "[CV] C=1, gamma=0.001 ................................................\n",
      "[CV] .................... C=1, gamma=0.001, score=0.506, total=   0.3s\n",
      "[CV] C=1, gamma=0.001 ................................................\n",
      "[CV] .................... C=1, gamma=0.001, score=0.505, total=   0.3s\n",
      "[CV] C=1, gamma=0.001 ................................................\n",
      "[CV] .................... C=1, gamma=0.001, score=0.506, total=   0.3s\n",
      "[CV] C=1, gamma=0.001 ................................................\n",
      "[CV] .................... C=1, gamma=0.001, score=0.506, total=   0.3s\n",
      "[CV] C=1, gamma=0.01 .................................................\n",
      "[CV] ..................... C=1, gamma=0.01, score=0.505, total=   0.3s\n",
      "[CV] C=1, gamma=0.01 .................................................\n",
      "[CV] ..................... C=1, gamma=0.01, score=0.506, total=   0.3s\n",
      "[CV] C=1, gamma=0.01 .................................................\n",
      "[CV] ..................... C=1, gamma=0.01, score=0.505, total=   0.3s\n",
      "[CV] C=1, gamma=0.01 .................................................\n",
      "[CV] ..................... C=1, gamma=0.01, score=0.506, total=   0.3s\n",
      "[CV] C=1, gamma=0.01 .................................................\n",
      "[CV] ..................... C=1, gamma=0.01, score=0.506, total=   0.3s\n",
      "[CV] C=5, gamma=0.0001 ...............................................\n",
      "[CV] ................... C=5, gamma=0.0001, score=0.505, total=   0.3s\n",
      "[CV] C=5, gamma=0.0001 ...............................................\n",
      "[CV] ................... C=5, gamma=0.0001, score=0.506, total=   0.3s\n",
      "[CV] C=5, gamma=0.0001 ...............................................\n",
      "[CV] ................... C=5, gamma=0.0001, score=0.505, total=   0.3s\n",
      "[CV] C=5, gamma=0.0001 ...............................................\n",
      "[CV] ................... C=5, gamma=0.0001, score=0.506, total=   0.2s\n",
      "[CV] C=5, gamma=0.0001 ...............................................\n",
      "[CV] ................... C=5, gamma=0.0001, score=0.506, total=   0.2s\n",
      "[CV] C=5, gamma=0.001 ................................................\n",
      "[CV] .................... C=5, gamma=0.001, score=0.505, total=   0.3s\n",
      "[CV] C=5, gamma=0.001 ................................................\n",
      "[CV] .................... C=5, gamma=0.001, score=0.506, total=   0.3s\n",
      "[CV] C=5, gamma=0.001 ................................................\n",
      "[CV] .................... C=5, gamma=0.001, score=0.505, total=   0.3s\n",
      "[CV] C=5, gamma=0.001 ................................................\n",
      "[CV] .................... C=5, gamma=0.001, score=0.506, total=   0.2s\n",
      "[CV] C=5, gamma=0.001 ................................................\n",
      "[CV] .................... C=5, gamma=0.001, score=0.506, total=   0.2s\n",
      "[CV] C=5, gamma=0.01 .................................................\n",
      "[CV] ..................... C=5, gamma=0.01, score=0.505, total=   0.3s\n",
      "[CV] C=5, gamma=0.01 .................................................\n",
      "[CV] ..................... C=5, gamma=0.01, score=0.506, total=   0.3s\n",
      "[CV] C=5, gamma=0.01 .................................................\n",
      "[CV] ..................... C=5, gamma=0.01, score=0.505, total=   0.3s\n",
      "[CV] C=5, gamma=0.01 .................................................\n",
      "[CV] ..................... C=5, gamma=0.01, score=0.506, total=   0.2s\n",
      "[CV] C=5, gamma=0.01 .................................................\n",
      "[CV] ..................... C=5, gamma=0.01, score=0.506, total=   0.2s\n",
      "[CV] C=10, gamma=0.0001 ..............................................\n",
      "[CV] .................. C=10, gamma=0.0001, score=0.505, total=   0.3s\n",
      "[CV] C=10, gamma=0.0001 ..............................................\n",
      "[CV] .................. C=10, gamma=0.0001, score=0.506, total=   0.3s\n",
      "[CV] C=10, gamma=0.0001 ..............................................\n",
      "[CV] .................. C=10, gamma=0.0001, score=0.505, total=   0.3s\n",
      "[CV] C=10, gamma=0.0001 ..............................................\n",
      "[CV] .................. C=10, gamma=0.0001, score=0.506, total=   0.3s\n",
      "[CV] C=10, gamma=0.0001 ..............................................\n",
      "[CV] .................. C=10, gamma=0.0001, score=0.506, total=   0.3s\n",
      "[CV] C=10, gamma=0.001 ...............................................\n",
      "[CV] ................... C=10, gamma=0.001, score=0.505, total=   0.3s\n",
      "[CV] C=10, gamma=0.001 ...............................................\n",
      "[CV] ................... C=10, gamma=0.001, score=0.506, total=   0.3s\n",
      "[CV] C=10, gamma=0.001 ...............................................\n",
      "[CV] ................... C=10, gamma=0.001, score=0.505, total=   0.3s\n",
      "[CV] C=10, gamma=0.001 ...............................................\n",
      "[CV] ................... C=10, gamma=0.001, score=0.506, total=   0.3s\n",
      "[CV] C=10, gamma=0.001 ...............................................\n",
      "[CV] ................... C=10, gamma=0.001, score=0.506, total=   0.3s\n",
      "[CV] C=10, gamma=0.01 ................................................\n",
      "[CV] .................... C=10, gamma=0.01, score=0.505, total=   0.3s\n",
      "[CV] C=10, gamma=0.01 ................................................\n",
      "[CV] .................... C=10, gamma=0.01, score=0.506, total=   0.3s\n",
      "[CV] C=10, gamma=0.01 ................................................\n",
      "[CV] .................... C=10, gamma=0.01, score=0.505, total=   0.3s\n",
      "[CV] C=10, gamma=0.01 ................................................\n",
      "[CV] .................... C=10, gamma=0.01, score=0.506, total=   0.3s\n",
      "[CV] C=10, gamma=0.01 ................................................\n",
      "[CV] .................... C=10, gamma=0.01, score=0.506, total=   0.3s\n"
     ]
    },
    {
     "name": "stderr",
     "output_type": "stream",
     "text": [
      "[Parallel(n_jobs=1)]: Done  45 out of  45 | elapsed:   12.0s finished\n"
     ]
    },
    {
     "data": {
      "text/plain": [
       "GridSearchCV(cv=None, error_score=nan,\n",
       "             estimator=SVC(C=1.0, break_ties=False, cache_size=200,\n",
       "                           class_weight=None, coef0=0.0,\n",
       "                           decision_function_shape='ovr', degree=3,\n",
       "                           gamma='scale', kernel='linear', max_iter=-1,\n",
       "                           probability=False, random_state=None, shrinking=True,\n",
       "                           tol=0.001, verbose=False),\n",
       "             iid='deprecated', n_jobs=None,\n",
       "             param_grid={'C': [1, 5, 10], 'gamma': [0.0001, 0.001, 0.01]},\n",
       "             pre_dispatch='2*n_jobs', refit=True, return_train_score=False,\n",
       "             scoring=None, verbose=3)"
      ]
     },
     "execution_count": 37,
     "metadata": {},
     "output_type": "execute_result"
    }
   ],
   "source": [
    "# Train the model with GridSearch\n",
    "# Fit the model using the grid search estimator. \n",
    "grid_model.fit(X_train_scaled, y_train)\n",
    "\n",
    "# This will take the SVC model and try each combination of parameters\n"
   ]
  },
  {
   "cell_type": "code",
   "execution_count": 38,
   "metadata": {},
   "outputs": [
    {
     "name": "stdout",
     "output_type": "stream",
     "text": [
      "{'C': 1, 'gamma': 0.0001}\n",
      "0.5056265872986996\n"
     ]
    }
   ],
   "source": [
    "print(grid_model.best_params_)\n",
    "print(grid_model.best_score_)"
   ]
  },
  {
   "cell_type": "code",
   "execution_count": 39,
   "metadata": {},
   "outputs": [],
   "source": [
    "# Make predictions with the hypertuned model\n",
    "predictions = grid_model.predict(X_test)"
   ]
  },
  {
   "cell_type": "code",
   "execution_count": 40,
   "metadata": {},
   "outputs": [
    {
     "name": "stdout",
     "output_type": "stream",
     "text": [
      "Test Acc: 0.488\n"
     ]
    }
   ],
   "source": [
    "print('Test Acc: %.3f' % grid_model.score(X_test, y_test))"
   ]
  },
  {
   "cell_type": "code",
   "execution_count": 41,
   "metadata": {
    "scrolled": true
   },
   "outputs": [
    {
     "name": "stdout",
     "output_type": "stream",
     "text": [
      "              precision    recall  f1-score   support\n",
      "\n",
      "        blue       0.00      0.00      0.00       411\n",
      "         red       0.00      0.00      0.00       484\n",
      "      purple       0.49      1.00      0.66       853\n",
      "\n",
      "    accuracy                           0.49      1748\n",
      "   macro avg       0.16      0.33      0.22      1748\n",
      "weighted avg       0.24      0.49      0.32      1748\n",
      "\n"
     ]
    },
    {
     "name": "stderr",
     "output_type": "stream",
     "text": [
      "C:\\Users\\bejir\\anaconda3\\lib\\site-packages\\sklearn\\metrics\\_classification.py:1272: UndefinedMetricWarning: Precision and F-score are ill-defined and being set to 0.0 in labels with no predicted samples. Use `zero_division` parameter to control this behavior.\n",
      "  _warn_prf(average, modifier, msg_start, len(result))\n"
     ]
    }
   ],
   "source": [
    "# Calculate classification report\n",
    "from sklearn.metrics import classification_report\n",
    "print(classification_report(y_test, predictions,\n",
    "                            target_names=[\"blue\", \"red\", \"purple\"]))"
   ]
  },
  {
   "cell_type": "markdown",
   "metadata": {},
   "source": [
    "# Save the Model"
   ]
  },
  {
   "cell_type": "code",
   "execution_count": 42,
   "metadata": {},
   "outputs": [
    {
     "data": {
      "text/plain": [
       "['exoplanet_exploration.sav']"
      ]
     },
     "execution_count": 42,
     "metadata": {},
     "output_type": "execute_result"
    }
   ],
   "source": [
    "# save your model by updating \"your_name\" with your name\n",
    "# and \"your_model\" with your model variable\n",
    "# be sure to turn this in to BCS\n",
    "# if joblib fails to import, try running the command to install in terminal/git-bash\n",
    "import joblib\n",
    "filename = 'exoplanet_exploration.sav'\n",
    "joblib.dump(grid_model, filename)"
   ]
  },
  {
   "cell_type": "code",
   "execution_count": null,
   "metadata": {},
   "outputs": [],
   "source": []
  }
 ],
 "metadata": {
  "kernel_info": {
   "name": "dev"
  },
  "kernelspec": {
   "display_name": "Python [conda env:root]",
   "language": "python",
   "name": "conda-root-py"
  },
  "language_info": {
   "codemirror_mode": {
    "name": "ipython",
    "version": 3
   },
   "file_extension": ".py",
   "mimetype": "text/x-python",
   "name": "python",
   "nbconvert_exporter": "python",
   "pygments_lexer": "ipython3",
   "version": "3.7.6"
  },
  "nteract": {
   "version": "0.12.3"
  }
 },
 "nbformat": 4,
 "nbformat_minor": 2
}
